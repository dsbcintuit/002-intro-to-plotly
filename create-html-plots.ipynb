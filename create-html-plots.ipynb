{
 "cells": [
  {
   "cell_type": "markdown",
   "id": "3708722e",
   "metadata": {},
   "source": [
    "# Create HTML plots with python\n",
    "* The purpose of this notebook is to demonstrate how to create a series of plots that can be used as part of a static webpage.\n",
    "* The html figures which you generate will be used in your static webpage\n",
    "* Source: https://plotly.com/python/linear-fits/"
   ]
  },
  {
   "cell_type": "markdown",
   "id": "c809178d",
   "metadata": {},
   "source": [
    "### Take a look at the data"
   ]
  },
  {
   "cell_type": "markdown",
   "id": "ae06e16d-53ad-4eb0-bae9-a43a8ba25490",
   "metadata": {},
   "source": [
    "Prior to running the notebook, you may need to install some libraries in your environment. You can read about plotly [here](https://plotly.com/python/getting-started/) but the step is pretty simple: in a new cell, run the following code. ```! conda install plotly```"
   ]
  },
  {
   "cell_type": "code",
   "execution_count": null,
   "id": "ce4ed245-de83-431f-9a55-c7090ad36c8d",
   "metadata": {},
   "outputs": [],
   "source": [
    "! conda install -c plotly plotly_express  -y\n",
    "! conda install pandas -y\n",
    "! conda install numpy -y"
   ]
  },
  {
   "cell_type": "code",
   "execution_count": null,
   "id": "090798a5",
   "metadata": {},
   "outputs": [],
   "source": [
    "# import the python libraries\n",
    "\n",
    "import numpy as np\n",
    "import pandas as pd\n",
    "import plotly.graph_objs as go\n",
    "import plotly.express as px"
   ]
  },
  {
   "cell_type": "markdown",
   "id": "fe51b65f-30fc-48d9-9d06-9824721472b4",
   "metadata": {},
   "source": [
    "# Create a bar chart"
   ]
  },
  {
   "cell_type": "code",
   "execution_count": null,
   "id": "b4f188df-e5d4-4391-841f-329b6f83ce7a",
   "metadata": {},
   "outputs": [],
   "source": [
    "# define some variables\n",
    "x_values=['Monday', 'Tuesday', 'Wednesday', 'Thursday', 'Friday']\n",
    "y_values=[15, 12, 8, 20, 19]\n",
    "\n",
    "# create the data trace\n",
    "trace =go.Bar(x=x_values, \n",
    "              y=y_values,\n",
    "              # marker={'color':['#FAB303','blue','green', 'red', '#ff5733' ]}\n",
    "             )\n",
    "\n",
    "# combine into a figure\n",
    "fig = go.Figure([trace])\n",
    "fig"
   ]
  },
  {
   "cell_type": "code",
   "execution_count": null,
   "id": "0dcc8b57-41b5-4dd6-ad86-dce0535bb4cb",
   "metadata": {},
   "outputs": [],
   "source": [
    "# save your image as an html file\n",
    "fig.write_html('bar_chart.html')"
   ]
  },
  {
   "cell_type": "markdown",
   "id": "34785f89-2d93-43e7-9d54-57d6b67ca220",
   "metadata": {},
   "source": [
    "# Pie chart"
   ]
  },
  {
   "cell_type": "code",
   "execution_count": null,
   "id": "2197515e-9f34-4511-96d8-5e0442761e97",
   "metadata": {},
   "outputs": [],
   "source": [
    "# define some variables\n",
    "gas = ['Oxygen','Hydrogen','Carbon Dioxide','Nitrogen']\n",
    "volume = [4500,2500,1053,500]\n",
    "\n",
    "# create the data trace\n",
    "trace = go.Pie(labels=gas, \n",
    "               values=volume\n",
    "              )\n",
    "\n",
    "# combine into a figure\n",
    "fig = go.Figure([trace])\n",
    "fig.update_traces(textinfo='value')\n",
    "fig"
   ]
  },
  {
   "cell_type": "code",
   "execution_count": null,
   "id": "fbc7aa4f-da3c-45bb-a677-31b0be2e7a27",
   "metadata": {},
   "outputs": [],
   "source": [
    "# save your image as an html file\n",
    "fig.write_html('docs/pie_chart.html')"
   ]
  },
  {
   "cell_type": "markdown",
   "id": "e055ff79-9d7e-4757-9a63-1525a890d69c",
   "metadata": {},
   "source": [
    "# Line chart"
   ]
  },
  {
   "cell_type": "code",
   "execution_count": null,
   "id": "82a2f119-a627-4980-9489-0a7be61ba2d0",
   "metadata": {},
   "outputs": [],
   "source": [
    "# define some variables\n",
    "x_values=[1980, 1990, 2000, 2010, 2020]\n",
    "y1_values=[6, 5, 7, 2, 8]\n",
    "y2_values=[9, 15, 5, 6, 10]\n",
    "\n",
    "# create the data trace\n",
    "trace1 =go.Scatter(x=x_values,\n",
    "                  y=y1_values,\n",
    "                  mode = 'lines')\n",
    "trace2 =go.Scatter(x=x_values,\n",
    "                  y=y2_values,\n",
    "                  mode = 'lines')\n",
    "\n",
    "# combine into a figure\n",
    "fig = go.Figure([trace1, trace2])\n",
    "fig"
   ]
  },
  {
   "cell_type": "markdown",
   "id": "9faf0b00-2822-4bb3-9d62-6f2bedb94736",
   "metadata": {},
   "source": [
    "# Scatterplot"
   ]
  },
  {
   "cell_type": "code",
   "execution_count": null,
   "id": "ac71a6fd-cbff-43eb-a7e5-732b1248de6a",
   "metadata": {},
   "outputs": [],
   "source": [
    "# define some variables\n",
    "random_x = np.random.randn(1000)\n",
    "random_y = np.random.randn(1000)\n",
    "\n",
    "# Create three data traces\n",
    "trace1 = go.Scatter(\n",
    "    x = random_x,\n",
    "    y = random_y,\n",
    "    mode = 'markers'\n",
    ")\n",
    "\n",
    "trace2 = go.Scatter(\n",
    "    x = random_x**2,\n",
    "    y = random_y**2,\n",
    "    mode = 'markers'\n",
    ")\n",
    "\n",
    "trace3 = go.Scatter(\n",
    "    x = random_y**2,\n",
    "    y = random_x**2,\n",
    "    mode = 'markers',\n",
    "   \n",
    ")\n",
    "\n",
    "# combine into a figure\n",
    "data = [trace1, trace2, trace3]\n",
    "fig = go.Figure(data)\n",
    "fig"
   ]
  },
  {
   "cell_type": "markdown",
   "id": "d95f88c3-7c7d-46d9-b17f-b42f9f1e27f2",
   "metadata": {},
   "source": [
    "## Create plots using datasets"
   ]
  },
  {
   "cell_type": "code",
   "execution_count": null,
   "id": "d35b841a",
   "metadata": {},
   "outputs": [],
   "source": [
    "# import a dataset about tips at restaurants\n",
    "df = px.data.tips()\n",
    "df.head(3)"
   ]
  },
  {
   "cell_type": "code",
   "execution_count": null,
   "id": "33e59784",
   "metadata": {},
   "outputs": [],
   "source": [
    "# add changes by removing the # sign\n",
    "scatter_fig = px.scatter(df, \n",
    "                         x='total_bill', \n",
    "                         y='tip'\n",
    "                        )\n",
    "scatter_fig.show()"
   ]
  },
  {
   "cell_type": "code",
   "execution_count": null,
   "id": "6274a6b4",
   "metadata": {},
   "outputs": [],
   "source": [
    "# save your figure as an html file\n",
    "scatter_fig.write_html('docs/scatter_fig.html')"
   ]
  },
  {
   "cell_type": "markdown",
   "id": "b4994075",
   "metadata": {},
   "source": [
    "### Add size and color"
   ]
  },
  {
   "cell_type": "code",
   "execution_count": null,
   "id": "ea30bd0e",
   "metadata": {},
   "outputs": [],
   "source": [
    "# add changes by removing the # sign\n",
    "time_fig = px.scatter(df, \n",
    "                 x=\"total_bill\", \n",
    "                 y=\"tip\", \n",
    "                 color='time',\n",
    "                 opacity=0.65,\n",
    "                 size='size',\n",
    "                 color_discrete_sequence=['green', 'orange']\n",
    "                )\n",
    "time_fig.show()"
   ]
  },
  {
   "cell_type": "code",
   "execution_count": null,
   "id": "3d03f1bf",
   "metadata": {},
   "outputs": [],
   "source": [
    "# save your figure\n",
    "time_fig.write_html('docs/bill_fig.html')"
   ]
  },
  {
   "cell_type": "code",
   "execution_count": null,
   "id": "aa8f90ba",
   "metadata": {},
   "outputs": [],
   "source": [
    "# new dataset\n",
    "df = px.data.iris()\n",
    "# create figure\n",
    "fig = px.scatter_3d(df, \n",
    "                    x='sepal_length', \n",
    "                    y='sepal_width', \n",
    "                    z='petal_width',\n",
    "                    color='species')\n",
    "fig"
   ]
  },
  {
   "cell_type": "code",
   "execution_count": null,
   "id": "b1d3f136-4c5f-424b-9642-33107d62ed22",
   "metadata": {},
   "outputs": [],
   "source": [
    "# change colors and symbol\n",
    "fig = px.scatter_3d(df, \n",
    "                    x='sepal_length', \n",
    "                    y='sepal_width', \n",
    "                    z='petal_width',\n",
    "                    color='petal_length', \n",
    "                    size='petal_length', \n",
    "                    size_max=18,\n",
    "                    symbol='species', \n",
    "                    opacity=0.7)\n",
    "fig"
   ]
  },
  {
   "cell_type": "code",
   "execution_count": null,
   "id": "f35e3c1f",
   "metadata": {},
   "outputs": [],
   "source": [
    "# save your figure\n",
    "fig.write_html('docs/3d_fig.html')"
   ]
  },
  {
   "cell_type": "markdown",
   "id": "9a086086",
   "metadata": {},
   "source": [
    "## Try comparing two groups"
   ]
  },
  {
   "cell_type": "code",
   "execution_count": null,
   "id": "d1065b8f",
   "metadata": {},
   "outputs": [],
   "source": [
    "# new dataset\n",
    "wide_df = px.data.medals_wide()\n",
    "wide_df\n"
   ]
  },
  {
   "cell_type": "code",
   "execution_count": null,
   "id": "493dd3da-ad0f-43a2-bcf0-ed9aef395950",
   "metadata": {},
   "outputs": [],
   "source": [
    "# create figure\n",
    "fig = px.bar(wide_df, \n",
    "             x=\"nation\", \n",
    "             y=[\"gold\", \"silver\", \"bronze\"], \n",
    "             title=\"Wide-Form Input\"\n",
    "            )\n",
    "fig.show()"
   ]
  },
  {
   "cell_type": "code",
   "execution_count": null,
   "id": "951111af",
   "metadata": {},
   "outputs": [],
   "source": [
    "df = px.data.tips()\n",
    "fig = px.histogram(df, \n",
    "                   x=\"sex\", \n",
    "                   y=\"total_bill\",\n",
    "                   color='smoker', \n",
    "                   barmode='group',\n",
    "                   height=400\n",
    "                  )\n",
    "fig"
   ]
  },
  {
   "cell_type": "code",
   "execution_count": null,
   "id": "84416405-d2f8-4f0f-bdc6-e62640306f0d",
   "metadata": {},
   "outputs": [],
   "source": []
  },
  {
   "cell_type": "code",
   "execution_count": null,
   "id": "48bcd78a-c490-4ab4-82a5-39da9cd84b6e",
   "metadata": {},
   "outputs": [],
   "source": []
  }
 ],
 "metadata": {
  "kernelspec": {
   "display_name": "default:Python",
   "language": "python",
   "name": "conda-env-default-py"
  },
  "language_info": {
   "codemirror_mode": {
    "name": "ipython",
    "version": 3
   },
   "file_extension": ".py",
   "mimetype": "text/x-python",
   "name": "python",
   "nbconvert_exporter": "python",
   "pygments_lexer": "ipython3",
   "version": "3.9.13"
  }
 },
 "nbformat": 4,
 "nbformat_minor": 5
}
